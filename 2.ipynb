{
 "cells": [
  {
   "cell_type": "code",
   "execution_count": 67,
   "id": "651ae339",
   "metadata": {},
   "outputs": [
    {
     "name": "stdout",
     "output_type": "stream",
     "text": [
      "['sunny' 'warm' 'normal' 'strong' 'warm' 'same']\n",
      "['?', '?', '?', '?', '?', '?']\n",
      "Instace 1 is ['sunny' 'warm' 'normal' 'strong' 'warm' 'same']\n",
      "Instance {i+1} is positive\n",
      "After instance 1 general hypothesis is : [['?', '?', '?', '?', '?', '?'], ['?', '?', '?', '?', '?', '?'], ['?', '?', '?', '?', '?', '?'], ['?', '?', '?', '?', '?', '?'], ['?', '?', '?', '?', '?', '?'], ['?', '?', '?', '?', '?', '?']] \n",
      "After instance 1 specific hypothesis is : ['sunny' 'warm' 'normal' 'strong' 'warm' 'same'] \n",
      "Instace 2 is ['sunny' 'warm' 'high' 'strong' 'warm' 'same']\n",
      "Instance {i+1} is positive\n",
      "After instance 2 general hypothesis is : [['?', '?', '?', '?', '?', '?'], ['?', '?', '?', '?', '?', '?'], ['?', '?', '?', '?', '?', '?'], ['?', '?', '?', '?', '?', '?'], ['?', '?', '?', '?', '?', '?'], ['?', '?', '?', '?', '?', '?']] \n",
      "After instance 2 specific hypothesis is : ['sunny' 'warm' '?' 'strong' 'warm' 'same'] \n",
      "Instace 3 is ['rainy' 'cold' 'high' 'strong' 'warm' 'change']\n",
      "Instance is negative\n",
      "After instance 3 general hypothesis is : [['sunny', '?', '?', '?', '?', '?'], ['?', 'warm', '?', '?', '?', '?'], ['?', '?', '?', '?', '?', '?'], ['?', '?', '?', '?', '?', '?'], ['?', '?', '?', '?', '?', '?'], ['?', '?', '?', '?', '?', 'same']] \n",
      "After instance 3 specific hypothesis is : ['sunny' 'warm' '?' 'strong' 'warm' 'same'] \n",
      "Instace 4 is ['sunny' 'warm' 'high' 'strong' 'cool' 'change']\n",
      "Instance {i+1} is positive\n",
      "After instance 4 general hypothesis is : [['sunny', '?', '?', '?', '?', '?'], ['?', 'warm', '?', '?', '?', '?'], ['?', '?', '?', '?', '?', '?'], ['?', '?', '?', '?', '?', '?'], ['?', '?', '?', '?', '?', '?'], ['?', '?', '?', '?', '?', '?']] \n",
      "After instance 4 specific hypothesis is : ['sunny' 'warm' '?' 'strong' '?' '?'] \n",
      "--------------------------------------------------------------------------------\n",
      "General Hypothesis :  [['sunny', '?', '?', '?', '?', '?'], ['?', 'warm', '?', '?', '?', '?']]\n",
      "Specific Hypothesis :  ['sunny' 'warm' '?' 'strong' '?' '?']\n"
     ]
    }
   ],
   "source": [
    "import numpy as np\n",
    "import pandas as pd\n",
    "\n",
    "data = pd.read_csv('enjoysport.csv')\n",
    "\n",
    "concepts = np.array(data.iloc[:,:-1])\n",
    "\n",
    "target = np.array(data.iloc[:,-1])\n",
    "\n",
    "def learn(concepts, target):\n",
    "    specific_h = concepts[0].copy()\n",
    "    print(specific_h)\n",
    "    general_h = [['?' for i in range (len(specific_h))] for i in range (len(specific_h))]\n",
    "    print(general_h[0])\n",
    "\n",
    "    for i, h in enumerate(concepts):\n",
    "        print(f\"Instace {i+1} is {h}\")\n",
    "        if target[i]=='yes':\n",
    "            print(\"Instance {i+1} is positive\")\n",
    "            for x in range(len(specific_h)):\n",
    "                if h[x] != specific_h[x]:\n",
    "                    general_h[x][x]='?'\n",
    "                    specific_h[x]='?'\n",
    "        \n",
    "        elif target[i]=='no':\n",
    "            print(\"Instance is negative\")\n",
    "            for x in range(len(specific_h)):\n",
    "                if h[x]!=specific_h[x]:\n",
    "                    general_h[x][x]=specific_h[x]\n",
    "                else :\n",
    "                    general_h[x][x]='?'\n",
    "        \n",
    "        print(f\"After instance {i+1} general hypothesis is : {general_h} \")\n",
    "        print(f\"After instance {i+1} specific hypothesis is : {specific_h} \")\n",
    "        \n",
    "        \n",
    "    indices = [i for i, val in enumerate(general_h) if val==['?', '?', '?', '?', '?', '?']]\n",
    "    \n",
    "    for i in indices:\n",
    "        general_h.remove(['?', '?', '?', '?', '?', '?'])\n",
    "    \n",
    "    return general_h, specific_h\n",
    "\n",
    "general_h, specific_h = learn(concepts,target)\n",
    "\n",
    "print('--------------------------------------------------------------------------------')\n",
    "print(\"General Hypothesis : \",general_h)\n",
    "print(\"Specific Hypothesis : \", specific_h)"
   ]
  }
 ],
 "metadata": {
  "kernelspec": {
   "display_name": "Python 3 (ipykernel)",
   "language": "python",
   "name": "python3"
  },
  "language_info": {
   "codemirror_mode": {
    "name": "ipython",
    "version": 3
   },
   "file_extension": ".py",
   "mimetype": "text/x-python",
   "name": "python",
   "nbconvert_exporter": "python",
   "pygments_lexer": "ipython3",
   "version": "3.11.5"
  }
 },
 "nbformat": 4,
 "nbformat_minor": 5
}

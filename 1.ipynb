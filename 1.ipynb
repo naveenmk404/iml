{
 "cells": [
  {
   "cell_type": "code",
   "execution_count": 3,
   "id": "42ccb6c4",
   "metadata": {},
   "outputs": [
    {
     "name": "stdout",
     "output_type": "stream",
     "text": [
      
      "instance 1 is postivie\n",
      "Hypothesis H0 is ['sunny', 'warm', 'normal', 'strong', 'warm', 'same']\n",
      "instance 2 is postivie\n",
      "Hypothesis H1 is ['sunny', 'warm', '?', 'strong', 'warm', 'same']\n",
      "instance 3 is negative and ignored\n",
      "Hypothesis H2 is ['sunny', 'warm', '?', 'strong', 'warm', 'same']\n",
      "instance 4 is postivie\n",
      "Hypothesis H3 is ['sunny', 'warm', '?', 'strong', '?', '?']\n",
      "Most specific hypothesis : ['sunny', 'warm', '?', 'strong', '?', '?']\n"
     ]
    }
   ],
   "source": [
    "import csv\n",
    "\n",
    "a = []\n",
    "\n",
    "with open ('enjoysport.csv','r') as csvfile:\n",
    "    next(csvfile)\n",
    "    for row in csv.reader(csvfile):\n",
    "        a.append(row)\n",
    "\n",
    "num_attributes = len(a[0])-1\n",
    "\n",
    "hypothesis = ['0']*num_attributes\n",
    "\n",
    "for i in range(0,len(a)):\n",
    "    if(a[i][num_attributes]=='yes'):\n",
    "        print(f'instance {i+1} is postivie')\n",
    "        for j in range(0,num_attributes):\n",
    "            if hypothesis[j]=='0' or hypothesis[j]==a[i][j] :\n",
    "                hypothesis[j]=a[i][j]\n",
    "            else :\n",
    "                hypothesis[j]='?'\n",
    "        print(f\"Hypothesis H{i} is {hypothesis}\")\n",
    "    \n",
    "    else :\n",
    "        print(f\"instance {i+1} is negative and ignored\")\n",
    "        print(f\"Hypothesis H{i} is {hypothesis}\")\n",
    "        \n",
    "        \n",
    "print(f'Most specific hypothesis : {hypothesis}')"
   ]
  }
 ],
 "metadata": {
  "kernelspec": {
   "display_name": "Python 3 (ipykernel)",
   "language": "python",
   "name": "python3"
  },
  "language_info": {
   "codemirror_mode": {
    "name": "ipython",
    "version": 3
   },
   "file_extension": ".py",
   "mimetype": "text/x-python",
   "name": "python",
   "nbconvert_exporter": "python",
   "pygments_lexer": "ipython3",
   "version": "3.11.5"
  }
 },
 "nbformat": 4,
 "nbformat_minor": 5
}
